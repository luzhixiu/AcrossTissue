{
 "cells": [
  {
   "cell_type": "markdown",
   "metadata": {},
   "source": [
    "Taking the output from DEG-SEQ2, the data \"5LS_L2L3Combined.csv\" contains the 5 life stages we are interested in:\n",
    "Embryo, L1 larva, Dauer Larva, L2L3 Larva and Adult, lets take a peek of that data"
   ]
  },
  {
   "cell_type": "code",
   "execution_count": 1,
   "metadata": {},
   "outputs": [
    {
     "name": "stdout",
     "output_type": "stream",
     "text": [
      "['WBID', 'elongating embryo Ce', 'L1 larva Ce', 'dauer larva Ce', 'adult Ce', 'L2L3_larva']\n",
      "['WBGene00000001', '4208', '12140', '5547', '2246', '2369']\n",
      "['WBGene00000002', '12554', '7828', '831', '280', '2591']\n",
      "['WBGene00000003', '7180', '11253', '570', '212', '2466']\n",
      "['WBGene00000004', '33305', '26947', '3212', '576', '5391']\n",
      "['WBGene00000005', '595', '132', '37', '281', '1410']\n",
      "['WBGene00000006', '425', '12243', '3146', '228', '2446']\n",
      "['WBGene00000007', '36', '314', '129', '197', '1719']\n",
      "['WBGene00000008', '0', '19', '663', '19', '182']\n",
      "['WBGene00000009', '71', '416', '193', '20', '64']\n"
     ]
    }
   ],
   "source": [
    "import csv\n",
    "import os\n",
    "\n",
    "#user configurable variables\n",
    "number_of_lines_to_print=10\n",
    "expressionCountFile=os.path.join(os.getcwd(),'csvs/5LS_L2L3Combined.csv')\n",
    "#Code Chunk for printing the file\n",
    "with open(os.path.join(os.getcwd(),expressionCountFile)) as csv_file:\n",
    "    csv_reader = csv.reader(csv_file, delimiter=',')\n",
    "    for row in csv_reader:\n",
    "        print(row)\n",
    "        number_of_lines_to_print-=1\n",
    "        if number_of_lines_to_print<=0:\n",
    "            break\n",
    "        \n",
    "        "
   ]
  },
  {
   "cell_type": "markdown",
   "metadata": {},
   "source": [
    "Now, we need to determine the genes that we consider to be life stage biased, here are the some criterias that must be fullfilled to be considered a life stage biased gene:\n",
    "\n",
    "<ol start=\"1\">   \n",
    "  <li>This gene has the highest expression in that life stage</li>\n",
    "  <li>This gene's expression at this life stage has at least a fold difference of 2 comparing the max expression in other life stages</li>\n",
    "  <li>At least one life stage has a count that is higher than at least 10% of of counts across all life stages. <br>\n",
    "      <font size=\"2\">*This ensures we dont include genes that have high fold diff due to unbalanced low expression counts, for example, a gene has a count of 1 in one life stage and are not found in other life stages(0 counts),this gene is a uniformly lowly expressed gene in all life stages, however, using the criteria one, this gene would have a fold difference of infinity, by setting a lower bound filter, we exclude these extremely lowly expressed gene counts that are prone to sequencing uncertainties. </font> </li>\n",
    "  \n",
    "</ol>\n"
   ]
  },
  {
   "cell_type": "markdown",
   "metadata": {},
   "source": [
    "Let's process the expression file using above criterias:"
   ]
  },
  {
   "cell_type": "code",
   "execution_count": 2,
   "metadata": {},
   "outputs": [],
   "source": [
    "from Code import LifeStageBiased as LSB\n",
    "#Speficy input and output\n",
    "LSB.inputFile= expressionCountFile\n",
    "outputFilePath=os.path.join(os.getcwd(),'csvs/LSB.csv')\n",
    "LSB.outputFile= outputFilePath\n",
    "LSB.cutLowPercentile=0.1\n",
    "LSB.fixedCutValue=0 #This overrides the percentil cut value, set to 0 disables it\n",
    "LSB.main()\n"
   ]
  },
  {
   "cell_type": "markdown",
   "metadata": {},
   "source": [
    "Now the genes that fit into our criteria should be in the *outputFilePath* we set ealier, lets take a look at that:"
   ]
  },
  {
   "cell_type": "code",
   "execution_count": 37,
   "metadata": {},
   "outputs": [
    {
     "name": "stdout",
     "output_type": "stream",
     "text": [
      "Index(['GeneID', 'LS', 'LS_EXP', 'SecondMax', 'RestMean', 'FoldDiff'], dtype='object')\n",
      "             LS_EXP      SecondMax       RestMean      FoldDiff        LS_LOG\n",
      "count  1.007100e+04   10071.000000   10071.000000  1.007100e+04  10071.000000\n",
      "mean   1.684420e+04    4113.559229    2197.957700           inf      7.073462\n",
      "std    7.361219e+04   19060.400316   10181.883323           NaN      2.554448\n",
      "min    2.000000e+00       0.000000       0.000000  2.000656e+00      0.693147\n",
      "25%    1.585000e+02      28.000000      12.250000  2.644444e+00      5.065750\n",
      "50%    1.309000e+03     251.000000     110.250000  3.807547e+00      7.177019\n",
      "75%    8.288500e+03    1955.000000     994.125000  6.815824e+00      9.022622\n",
      "max    2.253663e+06  540124.000000  315851.750000           inf     14.628067\n",
      "\n",
      "Data Summary By Life Stage Group\n",
      "                      LS_EXP                                            \\\n",
      "                       count          mean            std  min     25%   \n",
      "LS                                                                       \n",
      "L1 larva Ce           5410.0  25131.524584   89848.784337  2.0  192.00   \n",
      "L2L3_larva            1026.0   4944.701754   13842.408607  2.0  116.25   \n",
      "adult Ce               693.0  13859.542569  111496.568458  2.0  132.00   \n",
      "dauer larva Ce        1537.0   3808.715680   15096.267363  2.0   85.00   \n",
      "elongating embryo Ce  1405.0   9355.464057   25163.816641  3.0  541.00   \n",
      "\n",
      "                                                 SecondMax               ...  \\\n",
      "                         50%      75%        max     count         mean  ...   \n",
      "LS                                                                       ...   \n",
      "L1 larva Ce           2187.0  14679.0  1890193.0    5410.0  6544.048244  ...   \n",
      "L2L3_larva             533.0   2850.5   173036.0    1026.0  1191.113060  ...   \n",
      "adult Ce               622.0   3954.0  2253663.0     693.0   845.158730  ...   \n",
      "dauer larva Ce         306.0   1875.0   235883.0    1537.0   696.776838  ...   \n",
      "elongating embryo Ce  2484.0   7268.0   328012.0    1405.0  2238.883274  ...   \n",
      "\n",
      "                       FoldDiff       LS_LOG                                \\\n",
      "                            75%  max   count      mean       std       min   \n",
      "LS                                                                           \n",
      "L1 larva Ce            6.151585  inf  5410.0  7.460125  2.723493  0.693147   \n",
      "L2L3_larva             6.500000  inf  1026.0  6.306585  2.325816  0.693147   \n",
      "adult Ce               6.900000  inf   693.0  6.597748  2.349215  0.693147   \n",
      "dauer larva Ce        12.109155  inf  1537.0  6.020425  2.082266  0.693147   \n",
      "elongating embryo Ce   6.901116  inf  1405.0  7.531222  2.066674  1.098612   \n",
      "\n",
      "                                                               \n",
      "                           25%       50%       75%        max  \n",
      "LS                                                             \n",
      "L1 larva Ce           5.257495  7.690286  9.594173  14.452189  \n",
      "L2L3_larva            4.755736  6.278520  7.955247  12.061255  \n",
      "adult Ce              4.882802  6.432940  8.282483  14.628067  \n",
      "dauer larva Ce        4.442651  5.723585  7.536364  12.371091  \n",
      "elongating embryo Ce  6.293419  7.817625  8.891236  12.700805  \n",
      "\n",
      "[5 rows x 40 columns]\n"
     ]
    },
    {
     "data": {
      "image/png": "[encoded data removed]",
      "text/plain": [
       "<Figure size 432x288 with 6 Axes>"
      ]
     },
     "metadata": {
      "needs_background": "light"
     },
     "output_type": "display_data"
    }
   ],
   "source": [
    "import pandas as pd \n",
    "import numpy as np\n",
    "data = pd.read_csv(outputFilePath)\n",
    "\n",
    "print(data.columns)\n",
    "data.head()\n",
    "data[[\"LS_EXP\",\"SecondMax\",\"FoldDiff\"]]=data[[\"LS_EXP\",\"SecondMax\",\"FoldDiff\"]].apply(pd.to_numeric)\n",
    "data.sort_values(by=['FoldDiff'],ascending=False)\n",
    "\n",
    "\n",
    "data['LS_LOG']=np.log((data['LS_EXP']))\n",
    "\n",
    "print(data.describe())\n",
    "print()\n",
    "print(\"Data Summary By Life Stage Group\")\n",
    "print(data.groupby(\"LS\").describe())\n",
    "\n",
    "ax=data['LS_LOG'].hist(by=data['LS'],range=[0,12])\n",
    "\n"
   ]
  },
  {
   "cell_type": "code",
   "execution_count": null,
   "metadata": {},
   "outputs": [],
   "source": []
  },
  {
   "cell_type": "code",
   "execution_count": null,
   "metadata": {},
   "outputs": [],
   "source": []
  }
 ],
 "metadata": {
  "kernelspec": {
   "display_name": "Python 3",
   "language": "python",
   "name": "python3"
  },
  "language_info": {
   "codemirror_mode": {
    "name": "ipython",
    "version": 3
   },
   "file_extension": ".py",
   "mimetype": "text/x-python",
   "name": "python",
   "nbconvert_exporter": "python",
   "pygments_lexer": "ipython3",
   "version": "3.8.5"
  }
 },
 "nbformat": 4,
 "nbformat_minor": 4
}
