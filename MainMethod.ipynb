{
 "cells": [
  {
   "cell_type": "markdown",
   "metadata": {},
   "source": [
    "Taking the output from DEG-SEQ2, the data \"5LS_L2L3Combined.csv\" contains the 5 life stages we are interested in:\n",
    "Embryo, L1 larva, Dauer Larva, L2L3 larva and Adult, lets take a peek of that data"
   ]
  },
  {
   "cell_type": "code",
   "execution_count": 12,
   "metadata": {},
   "outputs": [
    {
     "name": "stdout",
     "output_type": "stream",
     "text": [
      "['WBID', 'elongating embryo Ce', 'L1 larva Ce', 'dauer larva Ce', 'adult Ce', 'L2L3_larva']\n",
      "['WBGene00000001', '4208', '12140', '5547', '2246', '2369']\n",
      "['WBGene00000002', '12554', '7828', '831', '280', '2591']\n",
      "['WBGene00000003', '7180', '11253', '570', '212', '2466']\n",
      "['WBGene00000004', '33305', '26947', '3212', '576', '5391']\n",
      "['WBGene00000005', '595', '132', '37', '281', '1410']\n",
      "['WBGene00000006', '425', '12243', '3146', '228', '2446']\n",
      "['WBGene00000007', '36', '314', '129', '197', '1719']\n",
      "['WBGene00000008', '0', '19', '663', '19', '182']\n",
      "['WBGene00000009', '71', '416', '193', '20', '64']\n"
     ]
    }
   ],
   "source": [
    "import csv\n",
    "import os\n",
    "\n",
    "#user configurable variables\n",
    "number_of_lines_to_print=10\n",
    "\n",
    "#Code Chunk for printing the file\n",
    "with open(os.path.join(os.getcwd(),'csvs/5LS_L2L3Combined.csv')) as csv_file:\n",
    "    csv_reader = csv.reader(csv_file, delimiter=',')\n",
    "    for row in csv_reader:\n",
    "        print(row)\n",
    "        number_of_lines_to_print-=1\n",
    "        if number_of_lines_to_print<=0:\n",
    "            break\n",
    "        \n",
    "        "
   ]
  },
  {
   "cell_type": "markdown",
   "metadata": {},
   "source": [
    "Now, we need to determine the genes that we consider to be life stage biased, here are the some criterias that must be fullfilled to be considered a life stage biased gene:\n",
    "\n",
    "<ol start=\"1\">   \n",
    "  <li>This gene has the highest expression in that life stage</li>\n",
    "  <li>This gene's expression at this life stage has at least a fold difference of 2 comparing the max expression in other life stages</li>\n",
    "  <li>At least one life stage has a count that is higher than at least 25% of genes across all life stages. <br>\n",
    "      <font size=\"2\">*This ensures we dont include genes that have high fold diff due to unbalanced low expression counts, for example, a gene has a count of 1 in one life stage and are not found in other life stages(0 counts),this gene is a uniformly lowly expressed gene in all life stages, however, using the criteria one, this gene would have a fold difference of infinity, by setting a lower bound filter, we exclude these extremely lowly expressed gene counts that are prone to sequencing uncertainties. </font> </li>\n",
    "  \n",
    "</ol>\n"
   ]
  },
  {
   "cell_type": "markdown",
   "metadata": {},
   "source": []
  },
  {
   "cell_type": "code",
   "execution_count": null,
   "metadata": {},
   "outputs": [],
   "source": []
  }
 ],
 "metadata": {
  "kernelspec": {
   "display_name": "Python 3",
   "language": "python",
   "name": "python3"
  },
  "language_info": {
   "codemirror_mode": {
    "name": "ipython",
    "version": 3
   },
   "file_extension": ".py",
   "mimetype": "text/x-python",
   "name": "python",
   "nbconvert_exporter": "python",
   "pygments_lexer": "ipython3",
   "version": "3.8.5"
  }
 },
 "nbformat": 4,
 "nbformat_minor": 4
}
