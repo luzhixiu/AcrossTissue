{
 "cells": [
  {
   "cell_type": "markdown",
   "metadata": {},
   "source": [
    "A Distance Unit for Genes Based on Codon Usage Bias"
   ]
  },
  {
   "cell_type": "markdown",
   "metadata": {},
   "source": [
    "Think about KNN, a simple way of clustering data points using a distance unit between points, the most commonly used distance metric is euclidian distance, however, difference distance metrics affect the result of KNN drastically."
   ]
  },
  {
   "cell_type": "markdown",
   "metadata": {},
   "source": [
    "Now, we have a fasta file, and we want to cluster the genes in this fasta file, based on their CUB, we know for a fact that CUB can vary between gene groups with different conditions even in the same species, can we devise a way to cluster these genes based on metrics we get from CUB statistics? (aka, come up with a way of measuring gene distance based on CUB statistics)"
   ]
  },
  {
   "cell_type": "markdown",
   "metadata": {},
   "source": [
    "Let's take a shot first, first we load the fasta file."
   ]
  },
  {
   "cell_type": "code",
   "execution_count": 1,
   "metadata": {},
   "outputs": [],
   "source": [
    "def findSequenceByID(inputFile,idType=\"locus_tag\"):\n",
    "    print (\"Selected id Type: %s\"%(idType))\n",
    "    geneDict=dict()\n",
    "    from Bio import SeqIO\n",
    "    records=SeqIO.parse(inputFile, \"fasta\")\n",
    "    cnt=0\n",
    "    mySum=0\n",
    "    for record in records:\n",
    "        mySum+=1\n",
    "        header=str(record.description)\n",
    "        if idType==\"raw\":\n",
    "            geneDict[header]=str(record.seq)\n",
    "        else:\n",
    "            startTargetIndex=header.find(str(idType))\n",
    "            if startTargetIndex<0:\n",
    "#                print (\"couldn't find the target idType\")\n",
    "                cnt+=1\n",
    "                continue\n",
    "            startIndex=startTargetIndex+len(idType)+1\n",
    "            idName=\"\"\n",
    "            charIndex=startIndex\n",
    "            while not (header[charIndex]==\"]\" or header[charIndex]==\",\"):\n",
    "                idName+=header[charIndex]\n",
    "                charIndex+=1\n",
    "            if idName not in geneDict:\n",
    "                geneDict[idName]=str(record.seq)\n",
    "    print (\"There are %s entries NOT found out of %s\"%(cnt,mySum))\n",
    "    print (\"%s distinct record in %s entries\"%(len(geneDict),mySum))\n",
    "    return geneDict"
   ]
  },
  {
   "cell_type": "code",
   "execution_count": 2,
   "metadata": {},
   "outputs": [
    {
     "name": "stdout",
     "output_type": "stream",
     "text": [
      "Selected id Type: Gn\n",
      "There are 4617 entries NOT found out of 30167\n",
      "19514 distinct record in 30167 entries\n"
     ]
    }
   ],
   "source": [
    "targetFastaFile=\"Fastas/c_elegan.fasta\"\n",
    "geneDict=findSequenceByID(targetFastaFile,idType='Gn')\n"
   ]
  },
  {
   "cell_type": "markdown",
   "metadata": {},
   "source": [
    "Now we need to define the function that gets CUB statistics from a gene, and convert that to a distance metric. "
   ]
  },
  {
   "cell_type": "code",
   "execution_count": 3,
   "metadata": {},
   "outputs": [],
   "source": [
    "\n",
    "\n",
    "sampleGeneSeq=geneDict[list(geneDict.keys())[0]]\n",
    "\n",
    "\n",
    "def MLE_from_gene(seq):\n",
    "    from Code import MLE\n",
    "\n",
    "    MLE.deltaEtaFile=\"Archive/Crei_Selection.csv\"\n",
    "    MLE.deltaMFile=\"Archive/Crei_Mutation.csv\"\n",
    "    MLE.main()\n",
    "    codonList=MLE.loadSequence(sampleGeneSeq)\n",
    "    MLE_PHI_List=MLE.method4(codonList)\n",
    "    return MLE_PHI_List\n",
    "\n",
    "\n",
    "  "
   ]
  },
  {
   "cell_type": "markdown",
   "metadata": {},
   "source": [
    "Obviously, we can not directly calculate the distance between MLE values from genes (genes have difference length, thus difference size of MLE lists), one alternative is to compare the probablity distributions of these MLE value lists using hellinger distance\n",
    "\n",
    "The Hellinger distance for two discrete distributions $p = (p_0, \\dots , p_n)$ and $q = (q_0, \\dots, q_n) $ is defined as follows:\n",
    "$$ H(p, q) = \\frac{1}{\\sqrt{2}} \\sqrt{\\sum_i^n (\\sqrt{p_i} - \\sqrt{q_i})^2}$$\n"
   ]
  },
  {
   "cell_type": "code",
   "execution_count": 4,
   "metadata": {},
   "outputs": [],
   "source": [
    "#A quick and dirty way to compute the hellindger distance between p and q(p and q are discrete probability distributions)\n",
    "def hellinger_dot(p, q):\n",
    "    z = np.sqrt(p) - np.sqrt(q)\n",
    "    #sum of squares of a vector z is the dot product of vector z and vector z (z@z)\n",
    "    return np.sqrt(z @ z / 2)"
   ]
  },
  {
   "cell_type": "code",
   "execution_count": 9,
   "metadata": {},
   "outputs": [
    {
     "name": "stdout",
     "output_type": "stream",
     "text": [
      "[130, 14, 89]\n"
     ]
    }
   ],
   "source": [
    "import numpy as np\n",
    "def listToFreqProbabilityDistribtion(MLE_PHI_List,binSize=3):\n",
    "    binWidth=1/float(binSize)\n",
    "    bins=[0]*binSize\n",
    "    binBound=[]\n",
    "    for i in range(binSize+1):\n",
    "        binBound.append(i*binWidth)\n",
    "    binnedList=np.digitize(MLE_PHI_List,binBound,right=True)\n",
    "    binnedList=sorted(binnedList)\n",
    "    freqList=[0]*binSize\n",
    "    for i in binnedList:\n",
    "        freqList[i-1]+=1\n",
    "    return freqList\n",
    "        \n",
    "    \n",
    "#freqList=(listToFreqProbabilityDistribtion(MLE_from_gene(sampleGeneSeq))) #this is a test sample"
   ]
  },
  {
   "cell_type": "code",
   "execution_count": 10,
   "metadata": {},
   "outputs": [
    {
     "name": "stderr",
     "output_type": "stream",
     "text": [
      "IOPub data rate exceeded.\n",
      "The notebook server will temporarily stop sending output\n",
      "to the client in order to avoid crashing it.\n",
      "To change this limit, set the config variable\n",
      "`--NotebookApp.iopub_data_rate_limit`.\n",
      "\n",
      "Current values:\n",
      "NotebookApp.iopub_data_rate_limit=1000000.0 (bytes/sec)\n",
      "NotebookApp.rate_limit_window=3.0 (secs)\n",
      "\n"
     ]
    }
   ],
   "source": [
    "for geneName in geneDict:\n",
    "    seq=geneDict[geneName]\n",
    "    "
   ]
  },
  {
   "cell_type": "code",
   "execution_count": null,
   "metadata": {},
   "outputs": [],
   "source": []
  },
  {
   "cell_type": "code",
   "execution_count": null,
   "metadata": {},
   "outputs": [],
   "source": []
  }
 ],
 "metadata": {
  "kernelspec": {
   "display_name": "Python 3",
   "language": "python",
   "name": "python3"
  },
  "language_info": {
   "codemirror_mode": {
    "name": "ipython",
    "version": 3
   },
   "file_extension": ".py",
   "mimetype": "text/x-python",
   "name": "python",
   "nbconvert_exporter": "python",
   "pygments_lexer": "ipython3",
   "version": "3.6.9"
  }
 },
 "nbformat": 4,
 "nbformat_minor": 2
}
