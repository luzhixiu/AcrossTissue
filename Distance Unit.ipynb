{
 "cells": [
  {
   "cell_type": "markdown",
   "metadata": {},
   "source": [
    "A Distance Unit for Genes Based on Codon Usage Bias"
   ]
  },
  {
   "cell_type": "markdown",
   "metadata": {},
   "source": [
    "Think about KNN, a simple way of clustering data points using a distance unit between points, the most commonly used distance metric is euclidian distance, however, difference distance metrics affect the result of KNN drastically."
   ]
  },
  {
   "cell_type": "markdown",
   "metadata": {},
   "source": [
    "Now, we have a fasta file, and we want to cluster the genes in this fasta file, based on their CUB, we know for a fact that CUB can vary between gene groups with different conditions even in the same species, can we devise a way to cluster these genes based on metrics we get from CUB statistics? (aka, come up with a way of measuring gene distance based on CUB statistics)"
   ]
  },
  {
   "cell_type": "markdown",
   "metadata": {},
   "source": [
    "Let's take a shot first, first we load the fasta file."
   ]
  },
  {
   "cell_type": "code",
   "execution_count": 1,
   "metadata": {},
   "outputs": [],
   "source": [
    "def findSequenceByID(inputFile,idType=\"locus_tag\"):\n",
    "    print (\"Selected id Type: %s\"%(idType))\n",
    "    geneDict=dict()\n",
    "    from Bio import SeqIO\n",
    "    records=SeqIO.parse(inputFile, \"fasta\")\n",
    "    cnt=0\n",
    "    mySum=0\n",
    "    for record in records:\n",
    "        mySum+=1\n",
    "        header=str(record.description)\n",
    "        if idType==\"raw\":\n",
    "            geneDict[header]=str(record.seq)\n",
    "        else:\n",
    "            startTargetIndex=header.find(str(idType))\n",
    "            if startTargetIndex<0:\n",
    "#                print (\"couldn't find the target idType\")\n",
    "                cnt+=1\n",
    "                continue\n",
    "            startIndex=startTargetIndex+len(idType)+1\n",
    "            idName=\"\"\n",
    "            charIndex=startIndex\n",
    "            while not (header[charIndex]==\"]\" or header[charIndex]==\",\"):\n",
    "                idName+=header[charIndex]\n",
    "                charIndex+=1\n",
    "            if idName not in geneDict:\n",
    "                geneDict[idName]=str(record.seq)\n",
    "    print (\"There are %s entries NOT found out of %s\"%(cnt,mySum))\n",
    "    print (\"%s distinct record in %s entries\"%(len(geneDict),mySum))\n",
    "    return geneDict"
   ]
  },
  {
   "cell_type": "code",
   "execution_count": 2,
   "metadata": {},
   "outputs": [
    {
     "name": "stdout",
     "output_type": "stream",
     "text": [
      "Selected id Type: Gn\n",
      "There are 4617 entries NOT found out of 30167\n",
      "19514 distinct record in 30167 entries\n"
     ]
    }
   ],
   "source": [
    "targetFastaFile=\"Fastas/c_elegan.fasta\"\n",
    "geneDict=findSequenceByID(targetFastaFile,idType='Gn')\n"
   ]
  },
  {
   "cell_type": "markdown",
   "metadata": {},
   "source": [
    "Now we need to define the function that gets CUB statistics from a gene, and convert that to a distance metric. "
   ]
  },
  {
   "cell_type": "code",
   "execution_count": 8,
   "metadata": {},
   "outputs": [
    {
     "name": "stdout",
     "output_type": "stream",
     "text": [
      "ATGAGCTCTTCATCATCTTCTAGAATTCACAATGGTGAAGATGTTTATGAAAAGGCGGAGGAATACTGGAGCCGCGCGAGCCAGGACGTCAACGGAATGCTCGGCGGATTCGAAGCGCTTCACGCGCCCGACATATCGGCGTCGAAACGATTTATTGAAGGACTGAAGAAAAAGAATCTATTCGGCTACTTTGACTATGCACTGGACTGCGGAGCGGGTATCGGACGTGTTACAAAGCATCTCTTAATGCCATTCTTCTCGAAAGTTGATATGGAAGACGTCGTCGAGGAGTTGATCACGAAAAGTGATCAATATATTGGAAAACATCCACGAATTGGAGATAAATTCGTCGAAGGACTGCAGACGTTTGCACCGCCCGAACGACGTTATGATTTGATATGGATTCAATGGGTTTCAGGGCATTTGGTTGATGAGGATTTGGTTGATTTCTTTAAAAGATGTGCGAAAGGACTGAAACCTGGTGGATGTATTGTGCTCAAGGATAATGTGACAAATCACGAGAAACGGTTATTCGACGATGATGATCATAGTTGGACGAGAACAGAGCCCGAGCTTCTTAAAGCGTTCGCCGATTCTCAACTGGACATGGTCTCGAAAGCACTGCAAACCGGATTCCCAAAGGAGATTTATCCAGTAAAAATGTATGCATTGAAGCCTCAACACACCGGATTCACCAATAATTGA\n"
     ]
    }
   ],
   "source": [
    "\n",
    "\n",
    "sampleGeneSeq=geneDict[list(geneDict.keys())[0]]\n",
    "\n",
    "\n",
    "def MLE_from_gene(seq):\n",
    "    from Code import MLE\n",
    "\n",
    "    MLE.deltaEtaFile=\"Archive/Crei_Selection.csv\"\n",
    "    MLE.deltaMFile=\"Archive/Crei_Mutation.csv\"\n",
    "    MLE.main()\n",
    "    codonList=MLE.loadSequence(sampleGeneSeq)\n",
    "    MLE_PHI_List=MLE.method4(codonList)\n",
    "    return MLE_PHI_List\n",
    "\n",
    "\n",
    "  "
   ]
  },
  {
   "cell_type": "code",
   "execution_count": null,
   "metadata": {},
   "outputs": [],
   "source": []
  },
  {
   "cell_type": "code",
   "execution_count": null,
   "metadata": {},
   "outputs": [],
   "source": []
  }
 ],
 "metadata": {
  "kernelspec": {
   "display_name": "Python 3",
   "language": "python",
   "name": "python3"
  },
  "language_info": {
   "codemirror_mode": {
    "name": "ipython",
    "version": 3
   },
   "file_extension": ".py",
   "mimetype": "text/x-python",
   "name": "python",
   "nbconvert_exporter": "python",
   "pygments_lexer": "ipython3",
   "version": "3.6.9"
  }
 },
 "nbformat": 4,
 "nbformat_minor": 2
}
