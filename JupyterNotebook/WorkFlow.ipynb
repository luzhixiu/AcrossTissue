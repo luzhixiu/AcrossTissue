{
 "cells": [
  {
   "cell_type": "markdown",
   "metadata": {},
   "source": [
    "# Start of the jutyter work flow"
   ]
  },
  {
   "cell_type": "markdown",
   "metadata": {},
   "source": [
    "Lets Start by thinking about what we are looking for:\n",
    "\n",
    "1. We are trying to assign weights to each life stage, in the hope that, with the weights assigned correctly, our overall fitting/corelation gets better.\n",
    "\n",
    "2. Develop a robust way of calculating these weights using sources including: ROC-Phi, Life stage expression.\n"
   ]
  },
  {
   "cell_type": "markdown",
   "metadata": {},
   "source": [
    "## Lets start with the expression data"
   ]
  },
  {
   "cell_type": "markdown",
   "metadata": {},
   "source": [
    "Using C. Elegan, we have 25 expression measurements (each measurement is an average of duplicates),  These are \n",
    "averaged for each set of technical replicates, and then quantile normalized within each set of biological\n",
    "replicates using limma. Finally, they are averaged for all biological replicates (if any).\n"
   ]
  },
  {
   "cell_type": "markdown",
   "metadata": {},
   "source": [
    "Let's visualize this:"
   ]
  },
  {
   "cell_type": "code",
   "execution_count": null,
   "metadata": {
    "jupyter": {
     "source_hidden": true
    }
   },
   "outputs": [],
   "source": [
    "%matplotlib inline\n",
    "import sys\n",
    "sys.path.append('../Code')\n",
    "import readCSVfiles as RCF;\n",
    "\n",
    "matrix,rowHeader,columnHeader=RCF.readCSV(\"/home/lu/AcrossTissue/csvs/cEl.csv\")\n"
   ]
  },
  {
   "cell_type": "code",
   "execution_count": null,
   "metadata": {},
   "outputs": [],
   "source": [
    "%matplotlib inline\n",
    "import plotMatrix as PM\n",
    "\n",
    "PM.plotHeatMap(matrix,rowHeader)\n",
    "\n"
   ]
  },
  {
   "cell_type": "code",
   "execution_count": null,
   "metadata": {},
   "outputs": [],
   "source": []
  },
  {
   "cell_type": "code",
   "execution_count": null,
   "metadata": {},
   "outputs": [],
   "source": []
  }
 ],
 "metadata": {
  "kernelspec": {
   "display_name": "Python 3",
   "language": "python",
   "name": "python3"
  }
 },
 "nbformat": 4,
 "nbformat_minor": 2
}
